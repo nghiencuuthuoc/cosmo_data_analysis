{
 "cells": [
  {
   "cell_type": "markdown",
   "id": "fbb769f4-8b10-421a-96b3-a89dd69d360f",
   "metadata": {},
   "source": [
    "<a href=\"https://github.com/nghiencuuthuoc/PharmApp/PharmApp.ipynb\" target=\"_parent\"><img src=\"https://colab.research.google.com/assets/colab-badge.svg\" alt=\"Open In Colab\"/></a>\n",
    "\n",
    "![](./images/PharmApp-logo.png)\n",
    "# PharmApp - Drug Discovery and Development\n",
    "Copyright 2024 | Nghiên Cứu Thuốc | RD_Pharma_Plus\n",
    "\n",
    "Email: nghiencuuthuoc@gmail.com | Web: nghiencuuthuoc.com | FB: facebook.com/nghiencuuthuoc | YouTube: youtube.com/@nghiencuuthuoc \n",
    "\n",
    "LinkedIN: linkedin.com/in/nghiencuuthuoc | Zalo: +84888999311 | WhatsAapp: +84888999311 | Twitter: x.com/nghiencuuthuoc "
   ]
  },
  {
   "cell_type": "markdown",
   "id": "cc54a6cd-7c0e-4940-81a8-73eb4ac038f5",
   "metadata": {},
   "source": [
    "# Cosmeceutical Data Analysis  "
   ]
  },
  {
   "cell_type": "markdown",
   "id": "87a471b6-3579-414d-b4ef-d73f2e88c095",
   "metadata": {},
   "source": [
    "## Tìm các hoạt chất đang trending trong mỹ phẩm với công cụ tìm kiếm phân tích dữ liệu mỹ phẩm"
   ]
  },
  {
   "cell_type": "code",
   "execution_count": 27,
   "id": "0b8b4cc1-681d-4129-b05f-cae65b6b06d2",
   "metadata": {},
   "outputs": [],
   "source": [
    "import sys\n",
    "sys.path.append('..')\n",
    "import os\n",
    "os.getcwd()\n",
    "import warnings\n",
    "warnings.simplefilter(action='ignore', category=FutureWarning)"
   ]
  },
  {
   "cell_type": "code",
   "execution_count": 28,
   "id": "8ba60d75-80d3-4eda-a892-1d229c517afc",
   "metadata": {},
   "outputs": [],
   "source": [
    "import pandas as pd\n",
    "import numpy as np\n",
    "# pd.set_option(\"display.max_rows\", None, \"display.max_columns\", None)"
   ]
  },
  {
   "cell_type": "code",
   "execution_count": 29,
   "id": "a70a7e58-1933-4b14-9e40-de4912d1a48f",
   "metadata": {},
   "outputs": [],
   "source": [
    " HASAKI = '../hasaki_data'"
   ]
  },
  {
   "cell_type": "code",
   "execution_count": 30,
   "id": "5163f6bb-9167-4ea3-a18d-31edb3a8038a",
   "metadata": {},
   "outputs": [
    {
     "name": "stdout",
     "output_type": "stream",
     "text": [
      "<class 'pandas.core.frame.DataFrame'>\n",
      "RangeIndex: 6432 entries, 0 to 6431\n",
      "Data columns (total 8 columns):\n",
      " #   Column      Non-Null Count  Dtype \n",
      "---  ------      --------------  ----- \n",
      " 0   Unnamed: 0  6432 non-null   object\n",
      " 1   Thông tin   6252 non-null   object\n",
      " 2   Thông số    6321 non-null   object\n",
      " 3   Thành phần  6321 non-null   object\n",
      " 4   Cách dùng   6321 non-null   object\n",
      " 5   Đánh giá    6431 non-null   object\n",
      " 6   Hỏi đáp     5931 non-null   object\n",
      " 7   URL         6431 non-null   object\n",
      "dtypes: object(8)\n",
      "memory usage: 402.1+ KB\n"
     ]
    }
   ],
   "source": [
    "df_hsk = pd.read_csv( HASAKI + \"/hsk_data.csv\", on_bad_lines='skip', low_memory=False)\n",
    "df_hsk.info()"
   ]
  },
  {
   "cell_type": "code",
   "execution_count": 31,
   "id": "467e2b72-9db7-4155-b213-602b64e0809a",
   "metadata": {},
   "outputs": [
    {
     "name": "stderr",
     "output_type": "stream",
     "text": [
      "PandasGUI INFO — pandasgui.gui — Opening PandasGUI\n"
     ]
    },
    {
     "data": {
      "text/plain": [
       "<pandasgui.gui.PandasGui at 0x226befbb1d0>"
      ]
     },
     "execution_count": 31,
     "metadata": {},
     "output_type": "execute_result"
    }
   ],
   "source": [
    "from pandasgui import show\n",
    "show(df_hsk)"
   ]
  },
  {
   "cell_type": "code",
   "execution_count": 15,
   "id": "420ffe59-968c-4e18-aece-05cacd0d5467",
   "metadata": {},
   "outputs": [],
   "source": [
    "def search(df: pd.DataFrame, substring: str, case: bool = False) -> pd.DataFrame: \n",
    "    mask = np.column_stack([df[col].astype(str).str.contains(substring.lower(), case=case, na=False) for col in df])\n",
    "    return df.loc[mask.any(axis=1)]"
   ]
  },
  {
   "cell_type": "code",
   "execution_count": 16,
   "id": "cfc512e3-6f08-4691-ab0e-4e1dd031e522",
   "metadata": {},
   "outputs": [
    {
     "name": "stdin",
     "output_type": "stream",
     "text": [
      "Enter drug name:  Saccharide Isomerate\n"
     ]
    }
   ],
   "source": [
    "ingredient = str(input(\"Enter drug name: \"))\n",
    "# ingredient = 'Hexanediol'"
   ]
  },
  {
   "cell_type": "code",
   "execution_count": 17,
   "id": "de4b5a06-74b7-49a6-9b73-84e7bfe9327a",
   "metadata": {},
   "outputs": [],
   "source": [
    "df_ingredient = search(df_hsk, ingredient)"
   ]
  },
  {
   "cell_type": "code",
   "execution_count": 20,
   "id": "0de1b940-627b-47d6-a3c5-f42b61cb1bed",
   "metadata": {},
   "outputs": [
    {
     "name": "stderr",
     "output_type": "stream",
     "text": [
      "PandasGUI INFO — pandasgui.gui — Opening PandasGUI\n"
     ]
    },
    {
     "data": {
      "text/plain": [
       "<pandasgui.gui.PandasGui at 0x2262b58d400>"
      ]
     },
     "execution_count": 20,
     "metadata": {},
     "output_type": "execute_result"
    }
   ],
   "source": [
    "from pandasgui import show\n",
    "show(df_ingredient)"
   ]
  },
  {
   "cell_type": "code",
   "execution_count": 18,
   "id": "f1604f04-bc8c-42ce-b768-99d1ca90bcd4",
   "metadata": {
    "scrolled": true
   },
   "outputs": [],
   "source": [
    "# df_ingredient.info()"
   ]
  },
  {
   "cell_type": "code",
   "execution_count": 32,
   "id": "ce44876c-6469-4814-b232-5f709ea77aad",
   "metadata": {},
   "outputs": [
    {
     "name": "stdin",
     "output_type": "stream",
     "text": [
      "Enter drug name:  PENTAVITIN\n"
     ]
    },
    {
     "name": "stderr",
     "output_type": "stream",
     "text": [
      "PandasGUI INFO — pandasgui.gui — Opening PandasGUI\n"
     ]
    },
    {
     "data": {
      "text/plain": [
       "<pandasgui.gui.PandasGui at 0x226bf00ad50>"
      ]
     },
     "execution_count": 32,
     "metadata": {},
     "output_type": "execute_result"
    }
   ],
   "source": [
    "ingredient = str(input(\"Enter drug name: \"))\n",
    "df_ingredient = search(df_hsk, ingredient)\n",
    "# df_ingredient.head()\n",
    "# Germanium\n",
    "show(df_ingredient)"
   ]
  },
  {
   "cell_type": "markdown",
   "id": "5c040074-be06-4554-be38-140799183799",
   "metadata": {},
   "source": [
    "## cảm ơn đã xem"
   ]
  },
  {
   "cell_type": "code",
   "execution_count": null,
   "id": "4e7d12d6-e5c5-44b3-85b1-25a73ef403b7",
   "metadata": {},
   "outputs": [],
   "source": []
  }
 ],
 "metadata": {
  "kernelspec": {
   "display_name": "Python 3 (ipykernel)",
   "language": "python",
   "name": "python3"
  },
  "language_info": {
   "codemirror_mode": {
    "name": "ipython",
    "version": 3
   },
   "file_extension": ".py",
   "mimetype": "text/x-python",
   "name": "python",
   "nbconvert_exporter": "python",
   "pygments_lexer": "ipython3",
   "version": "3.12.5"
  }
 },
 "nbformat": 4,
 "nbformat_minor": 5
}
